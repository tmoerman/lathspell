{
 "cells": [
  {
   "cell_type": "markdown",
   "metadata": {},
   "source": [
    "# 01 - Q bar calculation"
   ]
  },
  {
   "cell_type": "code",
   "execution_count": 19,
   "metadata": {},
   "outputs": [],
   "source": [
    "from scipy.sparse import csc_matrix\n",
    "import numpy as np\n",
    "import dask.array as da\n",
    "import math"
   ]
  },
  {
   "cell_type": "code",
   "execution_count": 68,
   "metadata": {},
   "outputs": [],
   "source": [
    "row = np.array([0, 2, 2, 0, 1, 2])\n",
    "col = np.array([0, 0, 1, 2, 2, 2])\n",
    "data = np.array([1, 2, 3, 4, 5, 6])\n",
    "\n",
    "m = csc_matrix((data, (row, col)), shape=(3, 3), dtype='float32')"
   ]
  },
  {
   "cell_type": "code",
   "execution_count": 107,
   "metadata": {},
   "outputs": [],
   "source": [
    "def calculate_Q(X: csc_matrix, update_in_place=False) -> np.ndarray:\n",
    "    \"\"\"\n",
    "    :param X: a CSC matrix of shape (rows=features, cols=observations).\n",
    "    :param update_in_place: whether or not to return a new Numpy array or modify the input X.\n",
    "    :return: the word-word correlation matrix Q as a dense Numpy ndarray.\n",
    "    \"\"\"\n",
    "\n",
    "    n_features, n_observations = X.shape\n",
    "\n",
    "    diagonal = np.zeros(n_features)\n",
    "\n",
    "    if not update_in_place:\n",
    "        X = X.copy()\n",
    "\n",
    "    for col_idx in range(X.indptr.size - 1):\n",
    "        col_start = X.indptr[col_idx]\n",
    "        col_end = X.indptr[col_idx + 1]\n",
    "\n",
    "        col_entries = X.data[col_start:col_end]\n",
    "        col_sum = np.sum(col_entries)\n",
    "\n",
    "        row_indices = X.indices[col_start:col_end]\n",
    "\n",
    "        diagonal[row_indices] += col_entries / (col_sum * (col_sum - 1))\n",
    "        X.data[col_start:col_end] = col_entries / math.sqrt(col_sum * (col_sum - 1))\n",
    "\n",
    "    Q = X * X.T / n_observations    \n",
    "    Q = np.array(Q.todense(), copy=False)\n",
    "    \n",
    "    diagonal = diagonal / n_observations\n",
    "    Q = Q - np.diag(diagonal)\n",
    "\n",
    "    return Q"
   ]
  },
  {
   "cell_type": "code",
   "execution_count": 108,
   "metadata": {},
   "outputs": [],
   "source": [
    "Q_bar = calculate_Q(m)"
   ]
  },
  {
   "cell_type": "code",
   "execution_count": 109,
   "metadata": {},
   "outputs": [
    {
     "data": {
      "text/plain": [
       "array([[ 0.01904761,  0.03174603,  0.14920634],\n",
       "       [ 0.03174603,  0.03174603,  0.04761905],\n",
       "       [ 0.14920634,  0.04761905,  0.49206347]])"
      ]
     },
     "execution_count": 109,
     "metadata": {},
     "output_type": "execute_result"
    }
   ],
   "source": [
    "Q_bar"
   ]
  },
  {
   "cell_type": "code",
   "execution_count": 110,
   "metadata": {},
   "outputs": [
    {
     "data": {
      "text/plain": [
       "array([[ 1.,  0.,  4.],\n",
       "       [ 0.,  0.,  5.],\n",
       "       [ 2.,  3.,  6.]], dtype=float32)"
      ]
     },
     "execution_count": 110,
     "metadata": {},
     "output_type": "execute_result"
    }
   ],
   "source": [
    "m.toarray()"
   ]
  },
  {
   "cell_type": "code",
   "execution_count": null,
   "metadata": {},
   "outputs": [],
   "source": []
  }
 ],
 "metadata": {
  "kernelspec": {
   "display_name": "Python [default]",
   "language": "python",
   "name": "python3"
  },
  "language_info": {
   "codemirror_mode": {
    "name": "ipython",
    "version": 3
   },
   "file_extension": ".py",
   "mimetype": "text/x-python",
   "name": "python",
   "nbconvert_exporter": "python",
   "pygments_lexer": "ipython3",
   "version": "3.5.5"
  }
 },
 "nbformat": 4,
 "nbformat_minor": 2
}
